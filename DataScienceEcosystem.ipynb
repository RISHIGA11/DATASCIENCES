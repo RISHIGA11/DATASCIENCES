{
 "cells": [
  {
   "cell_type": "markdown",
   "id": "0ab62a3d-6cc3-4b39-ae50-244c75dacfca",
   "metadata": {},
   "source": [
    "# Data Science Tools and Ecosystem"
   ]
  },
  {
   "cell_type": "markdown",
   "id": "16a7a961-29e7-431c-882f-85674406b1f9",
   "metadata": {
    "tags": []
   },
   "source": [
    "## *In this notebook, Data Science Tools and Ecosystem are summarized.*"
   ]
  },
  {
   "cell_type": "markdown",
   "id": "adae20e7-01ae-42c0-88c9-e844e1d7680d",
   "metadata": {},
   "source": [
    "###  Some of the commonly used libraries used by Data Scientists include:\n",
    "1. NUMPY\n",
    "2. PANDAS\n",
    "3. MATPLOTLIB"
   ]
  },
  {
   "cell_type": "markdown",
   "id": "4da74ab0-4ed2-409e-8a1b-301de7fe395d",
   "metadata": {},
   "source": [
    "### | Data Science Tools |  \n",
    "| JUPYTER NOTEBOOK|  \n",
    "| JUPYTER LAB|  \n",
    "|APACHE ZEPPELIN |\n",
    "| APACHE FLINK |  \n",
    "\n",
    "\n"
   ]
  },
  {
   "cell_type": "markdown",
   "id": "90060cc2-a14d-4606-bbec-2fd48e844235",
   "metadata": {},
   "source": [
    "### Below are a few examples of evaluating arithmetic expressions in Python"
   ]
  },
  {
   "cell_type": "code",
   "execution_count": 3,
   "id": "bb2b091c-10b0-452f-9047-eedb4328424e",
   "metadata": {
    "tags": []
   },
   "outputs": [
    {
     "data": {
      "text/plain": [
       "17"
      ]
     },
     "execution_count": 3,
     "metadata": {},
     "output_type": "execute_result"
    }
   ],
   "source": [
    "(3*4)+5"
   ]
  },
  {
   "cell_type": "code",
   "execution_count": 4,
   "id": "deb94037-bbf3-4831-9e31-37b4f0ac6dbb",
   "metadata": {
    "tags": []
   },
   "outputs": [
    {
     "name": "stdout",
     "output_type": "stream",
     "text": [
      "200 minutes is equal to 3.3333333333333335 hours\n"
     ]
    }
   ],
   "source": [
    "# Function to convert minutes to hours\n",
    "def minutes_to_hours(minutes):\n",
    "    hours = minutes / 60\n",
    "    return hours\n",
    "\n",
    "# Given minutes\n",
    "minutes = 200\n",
    "\n",
    "# Convert minutes to hours\n",
    "hours = minutes_to_hours(minutes)\n",
    "\n",
    "# Display the result\n",
    "print(f\"{minutes} minutes is equal to {hours} hours\")\n"
   ]
  },
  {
   "cell_type": "markdown",
   "id": "6dfcee21-f402-439f-9a75-e5de020eb736",
   "metadata": {
    "tags": []
   },
   "source": [
    "**Objectives:**\n",
    "* PYTHON\n",
    "* JAVA\n",
    "* MATLAB\n",
    "* JULIA"
   ]
  },
  {
   "cell_type": "markdown",
   "id": "bda6050e-6075-41af-9795-420abaf8b950",
   "metadata": {},
   "source": [
    "## Author\n",
    "RISHIGA SEKAR"
   ]
  },
  {
   "cell_type": "code",
   "execution_count": null,
   "id": "8aecff56-ad68-4884-9e67-989ed0495b36",
   "metadata": {},
   "outputs": [],
   "source": []
  }
 ],
 "metadata": {
  "kernelspec": {
   "display_name": "Python",
   "language": "python",
   "name": "conda-env-python-py"
  },
  "language_info": {
   "codemirror_mode": {
    "name": "ipython",
    "version": 3
   },
   "file_extension": ".py",
   "mimetype": "text/x-python",
   "name": "python",
   "nbconvert_exporter": "python",
   "pygments_lexer": "ipython3",
   "version": "3.7.12"
  }
 },
 "nbformat": 4,
 "nbformat_minor": 5
}
